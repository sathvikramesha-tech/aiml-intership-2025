{
 "cells": [
  {
   "cell_type": "code",
   "execution_count": 1,
   "id": "45a0b02d-cabe-48cd-b8e4-a39cb22866d0",
   "metadata": {},
   "outputs": [
    {
     "name": "stdout",
     "output_type": "stream",
     "text": [
      "Cluster 0: I love this product, it works great!\n",
      "Cluster 0: Worst experience ever, totally disappointed.\n",
      "Cluster 0: Amazing quality, very satisfied.\n",
      "Cluster 0: Terrible, I will never buy again.\n",
      "Cluster 1: Good value for money, worth it.\n",
      "Cluster 0: The product broke after one use, very bad.\n",
      "Cluster 0: Excellent service and great product.\n",
      "Cluster 1: Horrible, waste of money.\n",
      "Cluster 0: I’m happy with the purchase.\n",
      "Cluster 0: Not good, poor performance.\n"
     ]
    }
   ],
   "source": [
    "from sklearn.feature_extraction.text import TfidfVectorizer\n",
    "from sklearn.cluster import KMeans\n",
    "\n",
    "# Sample text reviews (mixed positive & negative)\n",
    "reviews = [\n",
    "    \"I love this product, it works great!\",\n",
    "    \"Worst experience ever, totally disappointed.\",\n",
    "    \"Amazing quality, very satisfied.\",\n",
    "    \"Terrible, I will never buy again.\",\n",
    "    \"Good value for money, worth it.\",\n",
    "    \"The product broke after one use, very bad.\",\n",
    "    \"Excellent service and great product.\",\n",
    "    \"Horrible, waste of money.\",\n",
    "    \"I’m happy with the purchase.\",\n",
    "    \"Not good, poor performance.\"\n",
    "]\n",
    "\n",
    "# Step 1: Convert text to numerical features (TF-IDF)\n",
    "vectorizer = TfidfVectorizer(stop_words='english')\n",
    "X = vectorizer.fit_transform(reviews)\n",
    "\n",
    "# Step 2: Apply K-Means (we assume 2 clusters: positive vs negative)\n",
    "kmeans = KMeans(n_clusters=2, random_state=42)\n",
    "labels = kmeans.fit_predict(X)\n",
    "\n",
    "# Step 3: Print results\n",
    "for review, label in zip(reviews, labels):\n",
    "    print(f\"Cluster {label}: {review}\")"
   ]
  },
  {
   "cell_type": "code",
   "execution_count": null,
   "id": "7ebf0b93-f7d2-4631-985c-01e10254b1df",
   "metadata": {},
   "outputs": [],
   "source": []
  }
 ],
 "metadata": {
  "kernelspec": {
   "display_name": "Python 3 (ipykernel)",
   "language": "python",
   "name": "python3"
  },
  "language_info": {
   "codemirror_mode": {
    "name": "ipython",
    "version": 3
   },
   "file_extension": ".py",
   "mimetype": "text/x-python",
   "name": "python",
   "nbconvert_exporter": "python",
   "pygments_lexer": "ipython3",
   "version": "3.13.7"
  }
 },
 "nbformat": 4,
 "nbformat_minor": 5
}
