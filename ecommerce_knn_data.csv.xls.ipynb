{
 "cells": [
  {
   "cell_type": "code",
   "execution_count": 2,
   "id": "a064ea91-3912-410f-9784-fdd562615760",
   "metadata": {},
   "outputs": [
    {
     "name": "stdout",
     "output_type": "stream",
     "text": [
      "Test Predictions: [0 0]\n",
      "Accuracy: 1.00\n",
      "Will the user buy? Yes ✅\n"
     ]
    },
    {
     "name": "stderr",
     "output_type": "stream",
     "text": [
      "C:\\Users\\RAMESHA S D\\AppData\\Local\\Programs\\Python\\Python313\\Lib\\site-packages\\sklearn\\utils\\validation.py:2749: UserWarning: X does not have valid feature names, but KNeighborsClassifier was fitted with feature names\n",
      "  warnings.warn(\n"
     ]
    }
   ],
   "source": [
    "# E-commerce k-NN Classification Example\n",
    "\n",
    "import pandas as pd\n",
    "from sklearn.model_selection import train_test_split\n",
    "from sklearn.neighbors import KNeighborsClassifier\n",
    "from sklearn.metrics import accuracy_score\n",
    "\n",
    "# Step 1: Create the dataset\n",
    "data = {\n",
    "    'Age': [18, 22, 25, 30, 35, 40, 45, 50, 55, 60],\n",
    "    'Time_on_Site': [1, 3, 5, 7, 9, 8, 6, 4, 2, 1],\n",
    "    'Buy': [0, 0, 0, 1, 1, 1, 1, 0, 0, 0]  # 1 = Buy, 0 = Not Buy\n",
    "}\n",
    "\n",
    "df = pd.DataFrame(data)\n",
    "\n",
    "# Step 2: Split into features and labels\n",
    "X = df[['Age', 'Time_on_Site']]  # Features (independent variables)\n",
    "y = df['Buy']                    # Target (dependent variable)\n",
    "\n",
    "# Step 3: Split into training and test data\n",
    "X_train, X_test, y_train, y_test = train_test_split(X, y, test_size=0.2, random_state=42)\n",
    "\n",
    "# Step 4: Create k-NN classifier\n",
    "knn = KNeighborsClassifier(n_neighbors=3)\n",
    "\n",
    "# Step 5: Train the model\n",
    "knn.fit(X_train, y_train)\n",
    "\n",
    "# Step 6: Make predictions on test data\n",
    "y_pred = knn.predict(X_test)\n",
    "\n",
    "# Step 7: Evaluate accuracy\n",
    "accuracy = accuracy_score(y_test, y_pred)\n",
    "print(\"Test Predictions:\", y_pred)\n",
    "print(f\"Accuracy: {accuracy:.2f}\")\n",
    "\n",
    "# Step 8: Predict for a new user\n",
    "new_user = [[28, 6]]  # Age 28, spent 6 minutes on site\n",
    "prediction = knn.predict(new_user)\n",
    "print(\"Will the user buy?\", \"Yes ✅\" if prediction[0] == 1 else \"No ❌\")"
   ]
  },
  {
   "cell_type": "code",
   "execution_count": null,
   "id": "f731aa6a-975f-4ee0-984c-40cdc0abecb8",
   "metadata": {},
   "outputs": [],
   "source": []
  }
 ],
 "metadata": {
  "kernelspec": {
   "display_name": "Python 3 (ipykernel)",
   "language": "python",
   "name": "python3"
  },
  "language_info": {
   "codemirror_mode": {
    "name": "ipython",
    "version": 3
   },
   "file_extension": ".py",
   "mimetype": "text/x-python",
   "name": "python",
   "nbconvert_exporter": "python",
   "pygments_lexer": "ipython3",
   "version": "3.13.7"
  }
 },
 "nbformat": 4,
 "nbformat_minor": 5
}
