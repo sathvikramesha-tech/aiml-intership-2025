{
 "cells": [
  {
   "cell_type": "code",
   "execution_count": 3,
   "id": "07c5a563-15e1-4450-95e2-b1b180f7eb46",
   "metadata": {},
   "outputs": [
    {
     "name": "stdout",
     "output_type": "stream",
     "text": [
      "Cluster 2: The stock market crashed yesterday\n",
      "Cluster 0: Investors are buying more stocks\n",
      "Cluster 0: Football world cup starts next week\n",
      "Cluster 0: The soccer team won the championship\n",
      "Cluster 0: New iPhone released with amazing features\n",
      "Cluster 1: Smartphone technology is evolving fast\n"
     ]
    }
   ],
   "source": [
    "from sklearn.feature_extraction.text import TfidfVectorizer\n",
    "from sklearn.cluster import KMeans\n",
    "\n",
    "# Sample documents\n",
    "docs = [\n",
    "    \"The stock market crashed yesterday\",\n",
    "    \"Investors are buying more stocks\",\n",
    "    \"Football world cup starts next week\",\n",
    "    \"The soccer team won the championship\",\n",
    "    \"New iPhone released with amazing features\",\n",
    "    \"Smartphone technology is evolving fast\"\n",
    "]\n",
    "\n",
    "# Convert text into TF-IDF vectors\n",
    "vectorizer = TfidfVectorizer(stop_words='english')\n",
    "X = vectorizer.fit_transform(docs)\n",
    "\n",
    "# Apply K-Means\n",
    "kmeans = KMeans(n_clusters=3, random_state=42)\n",
    "labels = kmeans.fit_predict(X)\n",
    "\n",
    "for doc, label in zip(docs, labels):\n",
    "    print(f\"Cluster {label}: {doc}\")"
   ]
  },
  {
   "cell_type": "code",
   "execution_count": null,
   "id": "ff592e83-7fc6-482d-9465-1eafb93d1e56",
   "metadata": {},
   "outputs": [],
   "source": []
  }
 ],
 "metadata": {
  "kernelspec": {
   "display_name": "Python 3 (ipykernel)",
   "language": "python",
   "name": "python3"
  },
  "language_info": {
   "codemirror_mode": {
    "name": "ipython",
    "version": 3
   },
   "file_extension": ".py",
   "mimetype": "text/x-python",
   "name": "python",
   "nbconvert_exporter": "python",
   "pygments_lexer": "ipython3",
   "version": "3.13.7"
  }
 },
 "nbformat": 4,
 "nbformat_minor": 5
}
