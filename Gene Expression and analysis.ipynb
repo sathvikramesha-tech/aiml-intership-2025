{
 "cells": [
  {
   "cell_type": "code",
   "execution_count": 2,
   "id": "cd3845a9-f703-40b5-a4ed-33ea9fd6d791",
   "metadata": {},
   "outputs": [
    {
     "name": "stdout",
     "output_type": "stream",
     "text": [
      "Collecting kagglehub\n",
      "  Downloading kagglehub-0.3.13-py3-none-any.whl.metadata (38 kB)\n",
      "Requirement already satisfied: packaging in c:\\users\\ramesha s d\\appdata\\local\\programs\\python\\python313\\lib\\site-packages (from kagglehub) (25.0)\n",
      "Requirement already satisfied: pyyaml in c:\\users\\ramesha s d\\appdata\\local\\programs\\python\\python313\\lib\\site-packages (from kagglehub) (6.0.2)\n",
      "Requirement already satisfied: requests in c:\\users\\ramesha s d\\appdata\\local\\programs\\python\\python313\\lib\\site-packages (from kagglehub) (2.32.4)\n",
      "Requirement already satisfied: tqdm in c:\\users\\ramesha s d\\appdata\\local\\programs\\python\\python313\\lib\\site-packages (from kagglehub) (4.67.1)\n",
      "Requirement already satisfied: charset_normalizer<4,>=2 in c:\\users\\ramesha s d\\appdata\\local\\programs\\python\\python313\\lib\\site-packages (from requests->kagglehub) (3.4.3)\n",
      "Requirement already satisfied: idna<4,>=2.5 in c:\\users\\ramesha s d\\appdata\\local\\programs\\python\\python313\\lib\\site-packages (from requests->kagglehub) (3.7)\n",
      "Requirement already satisfied: urllib3<3,>=1.21.1 in c:\\users\\ramesha s d\\appdata\\local\\programs\\python\\python313\\lib\\site-packages (from requests->kagglehub) (2.5.0)\n",
      "Requirement already satisfied: certifi>=2017.4.17 in c:\\users\\ramesha s d\\appdata\\local\\programs\\python\\python313\\lib\\site-packages (from requests->kagglehub) (2025.8.3)\n",
      "Requirement already satisfied: colorama in c:\\users\\ramesha s d\\appdata\\local\\programs\\python\\python313\\lib\\site-packages (from tqdm->kagglehub) (0.4.6)\n",
      "Downloading kagglehub-0.3.13-py3-none-any.whl (68 kB)\n",
      "Installing collected packages: kagglehub\n",
      "Successfully installed kagglehub-0.3.13\n"
     ]
    }
   ],
   "source": [
    "!pip install kagglehub\n"
   ]
  },
  {
   "cell_type": "code",
   "execution_count": 21,
   "id": "b5b7ba72-605b-4308-bb92-50ef3d8de95e",
   "metadata": {},
   "outputs": [
    {
     "name": "stdout",
     "output_type": "stream",
     "text": [
      "Downloading from https://www.kaggle.com/api/v1/datasets/download/ylmzasel/gene-expression-analysis-and-disease-relationship?dataset_version_number=1...\n"
     ]
    },
    {
     "name": "stderr",
     "output_type": "stream",
     "text": [
      "100%|█████████████████████████████████████████████████████████████████████████████| 8.54k/8.54k [00:00<00:00, 4.78MB/s]"
     ]
    },
    {
     "name": "stdout",
     "output_type": "stream",
     "text": [
      "Extracting files...\n",
      "Path to dataset files: C:\\Users\\RAMESHA S D\\.cache\\kagglehub\\datasets\\ylmzasel\\gene-expression-analysis-and-disease-relationship\\versions\\1\n"
     ]
    },
    {
     "name": "stderr",
     "output_type": "stream",
     "text": [
      "\n"
     ]
    }
   ],
   "source": [
    "import kagglehub\n",
    "\n",
    "# Download latest version\n",
    "path = kagglehub.dataset_download(\"ylmzasel/gene-expression-analysis-and-disease-relationship\")\n",
    "\n",
    "print(\"Path to dataset files:\", path)"
   ]
  },
  {
   "cell_type": "code",
   "execution_count": 23,
   "id": "7b55b75a-d499-4166-840a-9bfcee0f3f2c",
   "metadata": {},
   "outputs": [
    {
     "name": "stdout",
     "output_type": "stream",
     "text": [
      "['Gene Expression Analysis and Disease Relationship.csv']\n"
     ]
    }
   ],
   "source": [
    "import os\n",
    "\n",
    "folder_path = r\"C:\\Users\\RAMESHA S D\\.cache\\kagglehub\\datasets\\ylmzasel\\gene-expression-analysis-and-disease-relationship\\versions\\1\"\n",
    "\n",
    "print(os.listdir(folder_path))\n"
   ]
  },
  {
   "cell_type": "code",
   "execution_count": 24,
   "id": "a9b30625-a781-4b3b-9b0f-0ed9ebd3b185",
   "metadata": {},
   "outputs": [
    {
     "name": "stdout",
     "output_type": "stream",
     "text": [
      "First 5 records:\n",
      "    PatientID  Age  Gender  Gene_X_Expression  Gene_Y_Expression  \\\n",
      "0          1   45       0               5.78               3.21   \n",
      "1          2   62       1               7.12               5.89   \n",
      "2          3   38       0               3.15               1.98   \n",
      "3          4   55       1               6.54               4.76   \n",
      "4          5   71       0               8.01               6.55   \n",
      "\n",
      "   SmokingStatus  DiseaseStatus  TreatmentResponse  \n",
      "0              1              1                  1  \n",
      "1              2              2                  0  \n",
      "2              0              0                  2  \n",
      "3              1              1                  1  \n",
      "4              2              2                  0  \n",
      "\n",
      "Dataset Info:\n",
      "<class 'pandas.core.frame.DataFrame'>\n",
      "RangeIndex: 1000 entries, 0 to 999\n",
      "Data columns (total 8 columns):\n",
      " #   Column             Non-Null Count  Dtype  \n",
      "---  ------             --------------  -----  \n",
      " 0   PatientID          1000 non-null   int64  \n",
      " 1   Age                1000 non-null   int64  \n",
      " 2   Gender             1000 non-null   int64  \n",
      " 3   Gene_X_Expression  1000 non-null   float64\n",
      " 4   Gene_Y_Expression  1000 non-null   float64\n",
      " 5   SmokingStatus      1000 non-null   int64  \n",
      " 6   DiseaseStatus      1000 non-null   int64  \n",
      " 7   TreatmentResponse  1000 non-null   int64  \n",
      "dtypes: float64(2), int64(6)\n",
      "memory usage: 62.6 KB\n",
      "None\n",
      "\n",
      "Summary Statistics:\n",
      "         PatientID          Age      Gender  Gene_X_Expression  \\\n",
      "count  1000.000000  1000.000000  1000.00000         1000.00000   \n",
      "mean    500.500000    49.631000     0.50000            3.92314   \n",
      "std     288.819436    17.608774     0.50025            2.00056   \n",
      "min       1.000000    20.000000     0.00000            0.51000   \n",
      "25%     250.750000    34.000000     0.00000            2.19750   \n",
      "50%     500.500000    49.000000     0.50000            3.88500   \n",
      "75%     750.250000    65.000000     1.00000            5.61250   \n",
      "max    1000.000000    80.000000     1.00000            9.01000   \n",
      "\n",
      "       Gene_Y_Expression  SmokingStatus  DiseaseStatus  TreatmentResponse  \n",
      "count         1000.00000    1000.000000    1000.000000        1000.000000  \n",
      "mean             3.62837       0.058000       0.058000           1.942000  \n",
      "std              1.94636       0.307784       0.307784           0.307784  \n",
      "min              0.30000       0.000000       0.000000           0.000000  \n",
      "25%              1.95000       0.000000       0.000000           2.000000  \n",
      "50%              3.58500       0.000000       0.000000           2.000000  \n",
      "75%              5.33000       0.000000       0.000000           2.000000  \n",
      "max              7.55000       2.000000       2.000000           2.000000  \n"
     ]
    }
   ],
   "source": [
    "import pandas as pd\n",
    "import os\n",
    "\n",
    "folder_path = r\"C:\\Users\\RAMESHA S D\\.cache\\kagglehub\\datasets\\ylmzasel\\gene-expression-analysis-and-disease-relationship\\versions\\1\"\n",
    "file_path = os.path.join(folder_path, \"Gene Expression Analysis and Disease Relationship.csv\")\n",
    "\n",
    "# Read the dataset\n",
    "df = pd.read_csv(file_path)\n",
    "\n",
    "# Show first few rows\n",
    "print(\"First 5 records:\\n\", df.head())\n",
    "\n",
    "# Show dataset info\n",
    "print(\"\\nDataset Info:\")\n",
    "print(df.info())\n",
    "\n",
    "# Show summary statistics\n",
    "print(\"\\nSummary Statistics:\")\n",
    "print(df.describe())\n"
   ]
  },
  {
   "cell_type": "code",
   "execution_count": 27,
   "id": "b6a5abfa-abad-41d6-8454-f843e08dd23f",
   "metadata": {},
   "outputs": [
    {
     "name": "stdout",
     "output_type": "stream",
     "text": [
      "📝 Columns in dataset:\n",
      " ['PatientID', 'Age', 'Gender', 'Gene_X_Expression', 'Gene_Y_Expression', 'SmokingStatus', 'DiseaseStatus', 'TreatmentResponse']\n",
      "\n",
      "🔎 First 5 rows:\n",
      "    PatientID  Age  Gender  Gene_X_Expression  Gene_Y_Expression  \\\n",
      "0          1   45       0               5.78               3.21   \n",
      "1          2   62       1               7.12               5.89   \n",
      "2          3   38       0               3.15               1.98   \n",
      "3          4   55       1               6.54               4.76   \n",
      "4          5   71       0               8.01               6.55   \n",
      "\n",
      "   SmokingStatus  DiseaseStatus  TreatmentResponse  \n",
      "0              1              1                  1  \n",
      "1              2              2                  0  \n",
      "2              0              0                  2  \n",
      "3              1              1                  1  \n",
      "4              2              2                  0  \n"
     ]
    }
   ],
   "source": [
    "import pandas as pd\n",
    "\n",
    "file_path = r\"C:\\Users\\RAMESHA S D\\.cache\\kagglehub\\datasets\\ylmzasel\\gene-expression-analysis-and-disease-relationship\\versions\\1\\Gene Expression Analysis and Disease Relationship.csv\"\n",
    "df = pd.read_csv(file_path)\n",
    "\n",
    "print(\"📝 Columns in dataset:\\n\", df.columns.tolist())\n",
    "print(\"\\n🔎 First 5 rows:\\n\", df.head())\n"
   ]
  },
  {
   "cell_type": "code",
   "execution_count": 28,
   "id": "eeff8939-e1a0-4c81-9b92-8837c0bb823c",
   "metadata": {},
   "outputs": [
    {
     "name": "stdout",
     "output_type": "stream",
     "text": [
      "✅ Model trained and saved as gene_disease_model.pkl\n"
     ]
    }
   ],
   "source": [
    "import pandas as pd\n",
    "from sklearn.model_selection import train_test_split\n",
    "from sklearn.linear_model import LogisticRegression\n",
    "import pickle\n",
    "\n",
    "# Load dataset\n",
    "file_path = r\"C:\\Users\\RAMESHA S D\\.cache\\kagglehub\\datasets\\ylmzasel\\gene-expression-analysis-and-disease-relationship\\versions\\1\\Gene Expression Analysis and Disease Relationship.csv\"\n",
    "df = pd.read_csv(file_path)\n",
    "\n",
    "# Target variable\n",
    "y = df['DiseaseStatus']\n",
    "\n",
    "# Features (drop target + PatientID)\n",
    "X = df.drop(columns=['DiseaseStatus', 'PatientID'], errors='ignore')\n",
    "\n",
    "# Convert categorical columns into numeric (if any)\n",
    "X = pd.get_dummies(X, drop_first=True)\n",
    "\n",
    "# Train-test split\n",
    "X_train, X_test, y_train, y_test = train_test_split(X, y, test_size=0.2, random_state=42)\n",
    "\n",
    "# Train classification model\n",
    "model = LogisticRegression(max_iter=1000)\n",
    "model.fit(X_train, y_train)\n",
    "\n",
    "# Save model as pickle\n",
    "pickle_file = \"gene_disease_model.pkl\"\n",
    "with open(pickle_file, \"wb\") as f:\n",
    "    pickle.dump(model, f)\n",
    "\n",
    "print(f\"✅ Model trained and saved as {pickle_file}\")\n"
   ]
  },
  {
   "cell_type": "code",
   "execution_count": 29,
   "id": "d893fee7-e6ba-47ac-a613-313124ade609",
   "metadata": {},
   "outputs": [
    {
     "name": "stdout",
     "output_type": "stream",
     "text": [
      "🔎 First 10 Predictions:\n",
      "    Actual  Predicted\n",
      "0       1          1\n",
      "1       2          2\n",
      "2       0          0\n",
      "3       1          1\n",
      "4       2          2\n",
      "5       0          0\n",
      "6       1          1\n",
      "7       2          2\n",
      "8       0          0\n",
      "9       1          1\n"
     ]
    }
   ],
   "source": [
    "import pandas as pd\n",
    "import pickle\n",
    "\n",
    "# Load the trained model\n",
    "pickle_file = \"gene_disease_model.pkl\"\n",
    "with open(pickle_file, \"rb\") as f:\n",
    "    model = pickle.load(f)\n",
    "\n",
    "# Load dataset again (to prepare features the same way)\n",
    "file_path = r\"C:\\Users\\RAMESHA S D\\.cache\\kagglehub\\datasets\\ylmzasel\\gene-expression-analysis-and-disease-relationship\\versions\\1\\Gene Expression Analysis and Disease Relationship.csv\"\n",
    "df = pd.read_csv(file_path)\n",
    "\n",
    "# Prepare features (drop target + PatientID)\n",
    "X = df.drop(columns=['DiseaseStatus', 'PatientID'], errors='ignore')\n",
    "X = pd.get_dummies(X, drop_first=True)\n",
    "\n",
    "# ✅ Predict on the same dataset (or you can replace with new data)\n",
    "predictions = model.predict(X)\n",
    "\n",
    "# Show first 10 predictions alongside actual\n",
    "results = pd.DataFrame({\n",
    "    \"Actual\": df['DiseaseStatus'],\n",
    "    \"Predicted\": predictions\n",
    "})\n",
    "\n",
    "print(\"🔎 First 10 Predictions:\\n\", results.head(10))\n"
   ]
  },
  {
   "cell_type": "code",
   "execution_count": 31,
   "id": "44e2cd03-4ee8-471e-928d-aab5549f774f",
   "metadata": {},
   "outputs": [
    {
     "name": "stdout",
     "output_type": "stream",
     "text": [
      "🧬 Predicted Disease Status: 1\n"
     ]
    }
   ],
   "source": [
    "import pandas as pd\n",
    "import pickle\n",
    "\n",
    "# Load the trained model\n",
    "pickle_file = \"gene_disease_model.pkl\"\n",
    "with open(pickle_file, \"rb\") as f:\n",
    "    model = pickle.load(f)\n",
    "\n",
    "# Example new patient data (modify values to test)\n",
    "new_patient = {\n",
    "    \"Age\": 60,\n",
    "    \"Gender\": 1,              # 0 = Female, 1 = Male (based on dataset encoding)\n",
    "    \"Gene_X_Expression\": 6.8,\n",
    "    \"Gene_Y_Expression\": 4.9,\n",
    "    \"SmokingStatus\": 2,       # 0 = Non-smoker, 1 = Former, 2 = Current\n",
    "    \"TreatmentResponse\": 1    # 0/1/2 depending on dataset encoding\n",
    "}\n",
    "\n",
    "# Convert to DataFrame\n",
    "new_patient_df = pd.DataFrame([new_patient])\n",
    "\n",
    "# Ensure categorical encoding matches training\n",
    "new_patient_df = pd.get_dummies(new_patient_df, drop_first=True)\n",
    "\n",
    "# Align columns with training data (fill missing with 0)\n",
    "file_path = r\"C:\\Users\\RAMESHA S D\\.cache\\kagglehub\\datasets\\ylmzasel\\gene-expression-analysis-and-disease-relationship\\versions\\1\\Gene Expression Analysis and Disease Relationship.csv\"\n",
    "df = pd.read_csv(file_path)\n",
    "X = df.drop(columns=['DiseaseStatus', 'PatientID'], errors='ignore')\n",
    "X = pd.get_dummies(X, drop_first=True)\n",
    "\n",
    "new_patient_df = new_patient_df.reindex(columns=X.columns, fill_value=0)\n",
    "\n",
    "# Predict\n",
    "prediction = model.predict(new_patient_df)[0]\n",
    "\n",
    "print(\"🧬 Predicted Disease Status:\", prediction)\n"
   ]
  },
  {
   "cell_type": "code",
   "execution_count": 32,
   "id": "aeea4d79-fa3c-4925-8ff0-7839cdadfc14",
   "metadata": {},
   "outputs": [
    {
     "name": "stdout",
     "output_type": "stream",
     "text": [
      "✅ Model trained and saved as gene_disease_model.pkl\n"
     ]
    }
   ],
   "source": [
    "import kagglehub\n",
    "import pandas as pd\n",
    "from sklearn.model_selection import train_test_split\n",
    "from sklearn.linear_model import LogisticRegression\n",
    "import pickle\n",
    "\n",
    "# Step 1: Download dataset\n",
    "path = kagglehub.dataset_download(\"ylmzasel/gene-expression-analysis-and-disease-relationship\")\n",
    "file_path = f\"{path}/Gene Expression Analysis and Disease Relationship.csv\"\n",
    "\n",
    "# Step 2: Load dataset\n",
    "df = pd.read_csv(file_path)\n",
    "\n",
    "# Step 3: Features (X) and Target (y)\n",
    "X = df.drop(columns=['DiseaseStatus', 'PatientID'], errors='ignore')\n",
    "y = df['DiseaseStatus']\n",
    "\n",
    "# Step 4: Handle categorical variables\n",
    "X = pd.get_dummies(X, drop_first=True)\n",
    "\n",
    "# Step 5: Train-test split\n",
    "X_train, X_test, y_train, y_test = train_test_split(\n",
    "    X, y, test_size=0.2, random_state=42\n",
    ")\n",
    "\n",
    "# Step 6: Train a Logistic Regression model\n",
    "model = LogisticRegression(max_iter=1000)\n",
    "model.fit(X_train, y_train)\n",
    "\n",
    "# Step 7: Save trained model as pickle\n",
    "pickle_file = \"gene_disease_model.pkl\"\n",
    "with open(pickle_file, \"wb\") as f:\n",
    "    pickle.dump(model, f)\n",
    "\n",
    "print(f\"✅ Model trained and saved as {pickle_file}\")\n"
   ]
  },
  {
   "cell_type": "code",
   "execution_count": 34,
   "id": "66ddf77a-ab86-4d06-983b-62a5e063d136",
   "metadata": {},
   "outputs": [
    {
     "name": "stdout",
     "output_type": "stream",
     "text": [
      "🔎 First 10 Predictions:\n",
      "    Actual  Predicted\n",
      "0       1          1\n",
      "1       2          2\n",
      "2       0          0\n",
      "3       1          1\n",
      "4       2          2\n",
      "5       0          0\n",
      "6       1          1\n",
      "7       2          2\n",
      "8       0          0\n",
      "9       1          1\n"
     ]
    }
   ],
   "source": [
    "import pandas as pd\n",
    "import pickle\n",
    "\n",
    "# Load the trained model\n",
    "pickle_file = \"gene_disease_model.pkl\"\n",
    "with open(pickle_file, \"rb\") as f:\n",
    "    model = pickle.load(f)\n",
    "\n",
    "# Load dataset again (to prepare features the same way)\n",
    "file_path = r\"C:\\Users\\RAMESHA S D\\.cache\\kagglehub\\datasets\\ylmzasel\\gene-expression-analysis-and-disease-relationship\\versions\\1\\Gene Expression Analysis and Disease Relationship.csv\"\n",
    "df = pd.read_csv(file_path)\n",
    "\n",
    "# Prepare features (drop target + PatientID)\n",
    "X = df.drop(columns=['DiseaseStatus', 'PatientID'], errors='ignore')\n",
    "X = pd.get_dummies(X, drop_first=True)\n",
    "\n",
    "# ✅ Predict on the same dataset (or you can replace with new data)\n",
    "predictions = model.predict(X)\n",
    "\n",
    "# Show first 10 predictions alongside actual\n",
    "results = pd.DataFrame({\n",
    "    \"Actual\": df['DiseaseStatus'],\n",
    "    \"Predicted\": predictions\n",
    "})\n",
    "\n",
    "print(\"🔎 First 10 Predictions:\\n\", results.head(10))"
   ]
  },
  {
   "cell_type": "code",
   "execution_count": null,
   "id": "cf05bdbc-5107-49fe-abaa-ff6f98da55f5",
   "metadata": {},
   "outputs": [],
   "source": []
  }
 ],
 "metadata": {
  "kernelspec": {
   "display_name": "Python 3 (ipykernel)",
   "language": "python",
   "name": "python3"
  },
  "language_info": {
   "codemirror_mode": {
    "name": "ipython",
    "version": 3
   },
   "file_extension": ".py",
   "mimetype": "text/x-python",
   "name": "python",
   "nbconvert_exporter": "python",
   "pygments_lexer": "ipython3",
   "version": "3.13.7"
  }
 },
 "nbformat": 4,
 "nbformat_minor": 5
}
